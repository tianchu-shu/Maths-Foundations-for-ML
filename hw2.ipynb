{
 "cells": [
  {
   "cell_type": "code",
   "execution_count": 2,
   "metadata": {},
   "outputs": [],
   "source": [
    "import numpy as np\n",
    "import pandas as pd\n",
    "import scipy.io as sio"
   ]
  },
  {
   "cell_type": "markdown",
   "metadata": {},
   "source": [
    "## Q4 (a)"
   ]
  },
  {
   "cell_type": "code",
   "execution_count": 3,
   "metadata": {},
   "outputs": [],
   "source": [
    "df = sio.loadmat(\"face_emotion_data.mat\")\n",
    "X = df[\"X\"]\n",
    "y = df[\"y\"]"
   ]
  },
  {
   "cell_type": "code",
   "execution_count": 17,
   "metadata": {},
   "outputs": [
    {
     "data": {
      "text/plain": [
       "128"
      ]
     },
     "execution_count": 17,
     "metadata": {},
     "output_type": "execute_result"
    }
   ],
   "source": [
    "X.shape[0]"
   ]
  },
  {
   "cell_type": "code",
   "execution_count": 18,
   "metadata": {},
   "outputs": [
    {
     "data": {
      "text/plain": [
       "(126, 9)"
      ]
     },
     "execution_count": 18,
     "metadata": {},
     "output_type": "execute_result"
    }
   ],
   "source": [
    "X[2:,:].shape"
   ]
  },
  {
   "cell_type": "code",
   "execution_count": 4,
   "metadata": {},
   "outputs": [
    {
     "data": {
      "text/plain": [
       "(128, 1)"
      ]
     },
     "execution_count": 4,
     "metadata": {},
     "output_type": "execute_result"
    }
   ],
   "source": [
    "y.shape"
   ]
  },
  {
   "cell_type": "code",
   "execution_count": 5,
   "metadata": {},
   "outputs": [
    {
     "data": {
      "text/plain": [
       "array([[-1],\n",
       "       [ 1],\n",
       "       [-1],\n",
       "       [ 1],\n",
       "       [ 1],\n",
       "       [-1],\n",
       "       [ 1],\n",
       "       [-1],\n",
       "       [ 1],\n",
       "       [ 1]], dtype=int16)"
      ]
     },
     "execution_count": 5,
     "metadata": {},
     "output_type": "execute_result"
    }
   ],
   "source": [
    "y[:10]"
   ]
  },
  {
   "cell_type": "code",
   "execution_count": 6,
   "metadata": {},
   "outputs": [],
   "source": [
    "def weights(X, y):\n",
    "    XT = np.transpose(X)\n",
    "    A = np.dot(XT, X)\n",
    "    AI = np.linalg.inv(A)\n",
    "    p = np.dot(AI, XT)\n",
    "    w = np.dot(p, y)\n",
    "    return w"
   ]
  },
  {
   "cell_type": "code",
   "execution_count": 14,
   "metadata": {},
   "outputs": [],
   "source": [
    "U = np.array([[1,2], [2,-1],[-3,2]])"
   ]
  },
  {
   "cell_type": "code",
   "execution_count": 15,
   "metadata": {},
   "outputs": [],
   "source": [
    "y = np.array([[0],[1],[-1]])"
   ]
  },
  {
   "cell_type": "code",
   "execution_count": 16,
   "metadata": {},
   "outputs": [
    {
     "data": {
      "text/plain": [
       "(3, 2)"
      ]
     },
     "execution_count": 16,
     "metadata": {},
     "output_type": "execute_result"
    }
   ],
   "source": [
    "U.shape"
   ]
  },
  {
   "cell_type": "code",
   "execution_count": 17,
   "metadata": {},
   "outputs": [
    {
     "data": {
      "text/plain": [
       "(3, 1)"
      ]
     },
     "execution_count": 17,
     "metadata": {},
     "output_type": "execute_result"
    }
   ],
   "source": [
    "y.shape"
   ]
  },
  {
   "cell_type": "code",
   "execution_count": 18,
   "metadata": {},
   "outputs": [],
   "source": [
    "w = weights(U,y)"
   ]
  },
  {
   "cell_type": "code",
   "execution_count": 19,
   "metadata": {},
   "outputs": [
    {
     "data": {
      "text/plain": [
       "array([[ 0.3       ],\n",
       "       [-0.13333333]])"
      ]
     },
     "execution_count": 19,
     "metadata": {},
     "output_type": "execute_result"
    }
   ],
   "source": [
    "w"
   ]
  },
  {
   "cell_type": "markdown",
   "metadata": {},
   "source": [
    "## Q4 (c)"
   ]
  },
  {
   "cell_type": "code",
   "execution_count": 11,
   "metadata": {},
   "outputs": [
    {
     "data": {
      "text/plain": [
       "array([0.94366942])"
      ]
     },
     "execution_count": 11,
     "metadata": {},
     "output_type": "execute_result"
    }
   ],
   "source": [
    "max(w)"
   ]
  },
  {
   "cell_type": "markdown",
   "metadata": {},
   "source": [
    "## Q4 (e)"
   ]
  },
  {
   "cell_type": "markdown",
   "metadata": {},
   "source": [
    "A common method for estimating the performance of a classifier is cross-validation (CV).\n",
    "CV works like this. Divide the dataset into 8 equal sized subsets (e.g., examples 1 − 16,\n",
    "17 − 32, etc). Use 7 sets of the data to chose your weights, then use the weights to\n",
    "predict the labels of the remaining “hold-out” set. Compute the number of mistakes\n",
    "made on this hold-out set and divide that number by 16 (the size of the set) to estimate\n",
    "the error rate. Repeat this process 8 times (for the 8 different choices of the hold-out\n",
    "set) and average the error rates to obtain a final estimate."
   ]
  },
  {
   "cell_type": "code",
   "execution_count": 12,
   "metadata": {},
   "outputs": [],
   "source": [
    "SETSIZE = 16\n",
    "def slice(mx, SETSIZE, i):\n",
    "    if i == 0:\n",
    "        test = mx[:SETSIZE, :]\n",
    "        train = mx[SETSIZE:, :]\n",
    "    elif i == 7:\n",
    "        test = mx[mx.shape[0]-SETSIZE:, :]\n",
    "        train = mx[:mx.shape[0]-SETSIZE, :]\n",
    "    else:\n",
    "        a = i*SETSIZE\n",
    "        test = mx[a:a+SETSIZE, :]\n",
    "        train = np.concatenate((mx[:a, :], mx[a+SETSIZE:, :]))\n",
    "    return test, train"
   ]
  },
  {
   "cell_type": "code",
   "execution_count": 47,
   "metadata": {},
   "outputs": [],
   "source": [
    "def cross_validation(X, y):\n",
    "    error = 0\n",
    "    for i in range(8):\n",
    "        xtest, xtrain = slice(X, SETSIZE, i) \n",
    "        ytest, ytrain = slice(y, SETSIZE, i)\n",
    "        wt = weights(xtrain, ytrain)\n",
    "        yhat = np.dot(xtest, wt)\n",
    "        #count the number of mad predicted by yhat and y\n",
    "        yhat = (np.where(yhat>0,1,-1)) \n",
    "        dta = yhat - ytest\n",
    "        #error\n",
    "        error += dta[np.where(dta!=0)].shape[0]\n",
    "    rv = error/16\n",
    "    return rv/8"
   ]
  },
  {
   "cell_type": "markdown",
   "metadata": {},
   "source": [
    "## Q4 (f)"
   ]
  },
  {
   "cell_type": "code",
   "execution_count": 48,
   "metadata": {},
   "outputs": [
    {
     "data": {
      "text/plain": [
       "0.046875"
      ]
     },
     "execution_count": 48,
     "metadata": {},
     "output_type": "execute_result"
    }
   ],
   "source": [
    "#The error rate for all nine features \n",
    "cross_validation(X, y)"
   ]
  },
  {
   "cell_type": "code",
   "execution_count": 49,
   "metadata": {},
   "outputs": [],
   "source": [
    "X3 = X[:,[0,2,3]]"
   ]
  },
  {
   "cell_type": "code",
   "execution_count": 50,
   "metadata": {},
   "outputs": [
    {
     "data": {
      "text/plain": [
       "0.078125"
      ]
     },
     "execution_count": 50,
     "metadata": {},
     "output_type": "execute_result"
    }
   ],
   "source": [
    "#The error rate for three features \n",
    "cross_validation(X3, y)"
   ]
  },
  {
   "cell_type": "markdown",
   "metadata": {},
   "source": [
    "## Q5 Polynomial Fitting"
   ]
  },
  {
   "cell_type": "code",
   "execution_count": 57,
   "metadata": {},
   "outputs": [],
   "source": [
    "d = sio.loadmat(\"polydata.mat\")\n",
    "px = d[\"x\"]\n",
    "py = d[\"y\"]"
   ]
  },
  {
   "cell_type": "code",
   "execution_count": 197,
   "metadata": {},
   "outputs": [
    {
     "data": {
      "text/plain": [
       "array([[0.06082981]])"
      ]
     },
     "execution_count": 197,
     "metadata": {},
     "output_type": "execute_result"
    }
   ],
   "source": [
    "w1 = weights(px, py)\n",
    "w1"
   ]
  },
  {
   "cell_type": "code",
   "execution_count": 95,
   "metadata": {},
   "outputs": [
    {
     "data": {
      "text/plain": [
       "array([[0.81472369],\n",
       "       [0.90579194],\n",
       "       [0.12698682],\n",
       "       [0.91337586],\n",
       "       [0.63235925],\n",
       "       [0.0975404 ],\n",
       "       [0.27849822],\n",
       "       [0.54688152],\n",
       "       [0.95750684],\n",
       "       [0.96488854],\n",
       "       [0.15761308],\n",
       "       [0.97059278],\n",
       "       [0.95716695],\n",
       "       [0.48537565],\n",
       "       [0.80028047],\n",
       "       [0.14188634],\n",
       "       [0.42176128],\n",
       "       [0.91573553],\n",
       "       [0.79220733],\n",
       "       [0.95949243],\n",
       "       [0.6557407 ],\n",
       "       [0.03571168],\n",
       "       [0.84912931],\n",
       "       [0.93399325],\n",
       "       [0.67873515],\n",
       "       [0.75774013],\n",
       "       [0.74313247],\n",
       "       [0.39222702],\n",
       "       [0.65547789],\n",
       "       [0.17118669]])"
      ]
     },
     "execution_count": 95,
     "metadata": {},
     "output_type": "execute_result"
    }
   ],
   "source": [
    "px"
   ]
  },
  {
   "cell_type": "code",
   "execution_count": 198,
   "metadata": {},
   "outputs": [],
   "source": [
    "px2 = np.concatenate((px, px*px), axis = 1)"
   ]
  },
  {
   "cell_type": "code",
   "execution_count": 199,
   "metadata": {},
   "outputs": [
    {
     "data": {
      "text/plain": [
       "array([[-0.50447315],\n",
       "       [ 0.67771647]])"
      ]
     },
     "execution_count": 199,
     "metadata": {},
     "output_type": "execute_result"
    }
   ],
   "source": [
    "w2 = weights(px2, py)\n",
    "w2"
   ]
  },
  {
   "cell_type": "code",
   "execution_count": 200,
   "metadata": {},
   "outputs": [],
   "source": [
    "px3 = np.concatenate((px, px2*px), axis = 1)"
   ]
  },
  {
   "cell_type": "code",
   "execution_count": 201,
   "metadata": {},
   "outputs": [
    {
     "data": {
      "text/plain": [
       "array([[-0.3195581 ],\n",
       "       [ 0.11042771],\n",
       "       [ 0.40047057]])"
      ]
     },
     "execution_count": 201,
     "metadata": {},
     "output_type": "execute_result"
    }
   ],
   "source": [
    "w3 = weights(px3,py)\n",
    "w3"
   ]
  },
  {
   "cell_type": "code",
   "execution_count": 210,
   "metadata": {},
   "outputs": [
    {
     "data": {
      "text/plain": [
       "array([0.03571168])"
      ]
     },
     "execution_count": 210,
     "metadata": {},
     "output_type": "execute_result"
    }
   ],
   "source": [
    "min(px)"
   ]
  },
  {
   "cell_type": "code",
   "execution_count": 261,
   "metadata": {},
   "outputs": [],
   "source": [
    "z1= np.concatenate((w1[::-1], np.array([[0]])), axis = 0)\n",
    "z2= np.concatenate((w2[::-1], np.array([[0]])), axis = 0)\n",
    "z3= np.concatenate((w3[::-1], np.array([[0]])), axis = 0)"
   ]
  },
  {
   "cell_type": "code",
   "execution_count": 262,
   "metadata": {},
   "outputs": [],
   "source": [
    "p1 = np.poly1d(z1.reshape(2,))\n",
    "p2 = np.poly1d(z2.reshape(3,))\n",
    "p3 = np.poly1d(z3.reshape(4,))"
   ]
  },
  {
   "cell_type": "code",
   "execution_count": 285,
   "metadata": {},
   "outputs": [
    {
     "data": {
      "image/png": "[encoded data removed]",
      "text/plain": [
       "<Figure size 432x288 with 1 Axes>"
      ]
     },
     "metadata": {
      "needs_background": "light"
     },
     "output_type": "display_data"
    }
   ],
   "source": [
    "import matplotlib.pyplot as plt\n",
    "xp = np.linspace(0, 1, 100)\n",
    "plt.scatter(px, py, label='raw data', marker='.',color='black')\n",
    "plt.plot(xp, p1(xp), label='linear')\n",
    "plt.plot( xp, p2(xp), label='quadratic')\n",
    "plt.plot(xp, p3(xp), label='cubic')\n",
    "\n",
    "plt.xlabel('x label')\n",
    "plt.ylabel('y label')\n",
    "\n",
    "plt.title(\"Simple Plot\")\n",
    "\n",
    "plt.legend()\n",
    "\n",
    "plt.show()"
   ]
  }
 ],
 "metadata": {
  "kernelspec": {
   "display_name": "Python 3",
   "language": "python",
   "name": "python3"
  },
  "language_info": {
   "codemirror_mode": {
    "name": "ipython",
    "version": 3
   },
   "file_extension": ".py",
   "mimetype": "text/x-python",
   "name": "python",
   "nbconvert_exporter": "python",
   "pygments_lexer": "ipython3",
   "version": "3.7.2"
  }
 },
 "nbformat": 4,
 "nbformat_minor": 2
}
