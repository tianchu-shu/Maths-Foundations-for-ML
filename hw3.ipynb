{
 "cells": [
  {
   "cell_type": "code",
   "execution_count": 1,
   "metadata": {},
   "outputs": [],
   "source": [
    "import numpy as np\n",
    "import pandas as pd\n",
    "import scipy.io as sio"
   ]
  },
  {
   "cell_type": "code",
   "execution_count": 2,
   "metadata": {},
   "outputs": [],
   "source": [
    "x = np.array([[2,1],  [3.1,1.4], [4.5, 2.5], [5, 2.7]])"
   ]
  },
  {
   "cell_type": "code",
   "execution_count": 5,
   "metadata": {},
   "outputs": [
    {
     "data": {
      "text/plain": [
       "2"
      ]
     },
     "execution_count": 5,
     "metadata": {},
     "output_type": "execute_result"
    }
   ],
   "source": [
    "np.linalg.matrix_rank(x)"
   ]
  },
  {
   "cell_type": "markdown",
   "metadata": {},
   "source": [
    "## Q1 a)"
   ]
  },
  {
   "cell_type": "code",
   "execution_count": 2,
   "metadata": {},
   "outputs": [],
   "source": [
    "def weights(X, y):\n",
    "    XT = np.transpose(X)\n",
    "    A = np.dot(XT, X)\n",
    "    AI = np.linalg.inv(A)\n",
    "    p = np.dot(AI, XT)\n",
    "    w = np.dot(p, y)\n",
    "    return w"
   ]
  },
  {
   "cell_type": "code",
   "execution_count": 5,
   "metadata": {},
   "outputs": [],
   "source": [
    "#input the data matrix\n",
    "x = np.array([[3,1],  [0,3], [0,4]])\n",
    "y = np.array([[1],[3],[1]])"
   ]
  },
  {
   "cell_type": "code",
   "execution_count": 6,
   "metadata": {},
   "outputs": [
    {
     "data": {
      "text/plain": [
       "array([[0.16],\n",
       "       [0.52]])"
      ]
     },
     "execution_count": 6,
     "metadata": {},
     "output_type": "execute_result"
    }
   ],
   "source": [
    "#a The calories/gram are 4.25 for carbohydrate, 17.5 for fat and 3.75 for protein.\n",
    "w = weights(x, y)\n",
    "w"
   ]
  },
  {
   "cell_type": "code",
   "execution_count": 8,
   "metadata": {},
   "outputs": [],
   "source": [
    "a =np.dot(x, w)\n"
   ]
  },
  {
   "cell_type": "code",
   "execution_count": 9,
   "metadata": {},
   "outputs": [
    {
     "data": {
      "text/plain": [
       "array([[1.  ],\n",
       "       [1.56],\n",
       "       [2.08]])"
      ]
     },
     "execution_count": 9,
     "metadata": {},
     "output_type": "execute_result"
    }
   ],
   "source": [
    "a"
   ]
  },
  {
   "cell_type": "code",
   "execution_count": 11,
   "metadata": {},
   "outputs": [],
   "source": [
    "u = np.array([[1,0],  [0,0.6], [0,0.8]])"
   ]
  },
  {
   "cell_type": "code",
   "execution_count": 13,
   "metadata": {},
   "outputs": [
    {
     "data": {
      "text/plain": [
       "array([[1. , 0. , 0. ],\n",
       "       [0. , 0.6, 0.8]])"
      ]
     },
     "execution_count": 13,
     "metadata": {},
     "output_type": "execute_result"
    }
   ],
   "source": [
    "ut = np.transpose(u)\n",
    "ut"
   ]
  },
  {
   "cell_type": "code",
   "execution_count": 15,
   "metadata": {},
   "outputs": [],
   "source": [
    "b=np.dot(u,ut)"
   ]
  },
  {
   "cell_type": "markdown",
   "metadata": {},
   "source": [
    "## Q1 b)"
   ]
  },
  {
   "cell_type": "code",
   "execution_count": 16,
   "metadata": {},
   "outputs": [
    {
     "data": {
      "text/plain": [
       "array([[1.  ],\n",
       "       [1.56],\n",
       "       [2.08]])"
      ]
     },
     "execution_count": 16,
     "metadata": {},
     "output_type": "execute_result"
    }
   ],
   "source": [
    "np.dot(b,y)"
   ]
  },
  {
   "cell_type": "code",
   "execution_count": 5,
   "metadata": {},
   "outputs": [],
   "source": [
    "wstar = np.array([[4], [9], [4]])"
   ]
  },
  {
   "cell_type": "code",
   "execution_count": 6,
   "metadata": {},
   "outputs": [
    {
     "data": {
      "text/plain": [
       "array([[4],\n",
       "       [4]])"
      ]
     },
     "execution_count": 6,
     "metadata": {},
     "output_type": "execute_result"
    }
   ],
   "source": [
    "wstar[[0, 2], :]"
   ]
  },
  {
   "cell_type": "code",
   "execution_count": 7,
   "metadata": {},
   "outputs": [
    {
     "data": {
      "text/plain": [
       "array([[25,  1],\n",
       "       [20,  2],\n",
       "       [40,  6]])"
      ]
     },
     "execution_count": 7,
     "metadata": {},
     "output_type": "execute_result"
    }
   ],
   "source": [
    "x[:,[0, 2]]"
   ]
  },
  {
   "cell_type": "code",
   "execution_count": 8,
   "metadata": {},
   "outputs": [
    {
     "data": {
      "text/plain": [
       "array([[0.66666667],\n",
       "       [2.44444444],\n",
       "       [2.88888889]])"
      ]
     },
     "execution_count": 8,
     "metadata": {},
     "output_type": "execute_result"
    }
   ],
   "source": [
    "(y - np.dot(x[:,[0, 2]], wstar[[0, 2], :]))/9"
   ]
  },
  {
   "cell_type": "markdown",
   "metadata": {},
   "source": [
    "## Q1 c)"
   ]
  },
  {
   "cell_type": "code",
   "execution_count": 9,
   "metadata": {},
   "outputs": [
    {
     "data": {
      "text/plain": [
       "array([[25, 15, 10,  0,  1],\n",
       "       [20, 12,  8,  1,  2],\n",
       "       [40, 30, 10,  1,  6],\n",
       "       [30, 15, 15,  0,  3],\n",
       "       [35, 20, 15,  2,  4]])"
      ]
     },
     "execution_count": 9,
     "metadata": {},
     "output_type": "execute_result"
    }
   ],
   "source": [
    "x5 = np.array([[25,15,10,0,1], [20,12,8,1,2], [40,30,10,1,6], [30,15,15,0,3],[35,20,15,2,4]])\n",
    "x5"
   ]
  },
  {
   "cell_type": "code",
   "execution_count": 10,
   "metadata": {},
   "outputs": [],
   "source": [
    "y5 = np.array([[104],[97],[193],[132],[174]])"
   ]
  },
  {
   "cell_type": "code",
   "execution_count": 11,
   "metadata": {},
   "outputs": [
    {
     "data": {
      "text/plain": [
       "array([[15, 10,  0,  1],\n",
       "       [12,  8,  1,  2],\n",
       "       [30, 10,  1,  6],\n",
       "       [15, 15,  0,  3],\n",
       "       [20, 15,  2,  4]])"
      ]
     },
     "execution_count": 11,
     "metadata": {},
     "output_type": "execute_result"
    }
   ],
   "source": [
    "x5[:, 1:]"
   ]
  },
  {
   "cell_type": "code",
   "execution_count": 12,
   "metadata": {},
   "outputs": [
    {
     "data": {
      "text/plain": [
       "array([[4.],\n",
       "       [4.],\n",
       "       [9.],\n",
       "       [4.]])"
      ]
     },
     "execution_count": 12,
     "metadata": {},
     "output_type": "execute_result"
    }
   ],
   "source": [
    "#calculate the weights using complex carbohydrates and sugars (simple carbs)\n",
    "w5 = weights(x5[:, 1:], y5)\n",
    "w5"
   ]
  },
  {
   "cell_type": "code",
   "execution_count": 13,
   "metadata": {},
   "outputs": [
    {
     "data": {
      "text/plain": [
       "array([[4.],\n",
       "       [9.],\n",
       "       [4.]])"
      ]
     },
     "execution_count": 13,
     "metadata": {},
     "output_type": "execute_result"
    }
   ],
   "source": [
    "#calculate the weights using the total carbohydrates \n",
    "weights(x5[:, [0,3,4]], y5)"
   ]
  },
  {
   "cell_type": "markdown",
   "metadata": {},
   "source": [
    "## Q4 b)"
   ]
  },
  {
   "cell_type": "code",
   "execution_count": 14,
   "metadata": {},
   "outputs": [],
   "source": [
    "df = sio.loadmat(\"fisheriris.mat\")"
   ]
  },
  {
   "cell_type": "code",
   "execution_count": 15,
   "metadata": {},
   "outputs": [
    {
     "data": {
      "text/plain": [
       "{'__header__': b'MATLAB 5.0 MAT-file, Platform: MACI64, Created on: Thu Jan 24 08:11:18 2019',\n",
       " '__version__': '1.0',\n",
       " '__globals__': [],\n",
       " 'meas': array([[5.1, 3.5, 1.4, 0.2],\n",
       "        [4.9, 3. , 1.4, 0.2],\n",
       "        [4.7, 3.2, 1.3, 0.2],\n",
       "        [4.6, 3.1, 1.5, 0.2],\n",
       "        [5. , 3.6, 1.4, 0.2],\n",
       "        [5.4, 3.9, 1.7, 0.4],\n",
       "        [4.6, 3.4, 1.4, 0.3],\n",
       "        [5. , 3.4, 1.5, 0.2],\n",
       "        [4.4, 2.9, 1.4, 0.2],\n",
       "        [4.9, 3.1, 1.5, 0.1],\n",
       "        [5.4, 3.7, 1.5, 0.2],\n",
       "        [4.8, 3.4, 1.6, 0.2],\n",
       "        [4.8, 3. , 1.4, 0.1],\n",
       "        [4.3, 3. , 1.1, 0.1],\n",
       "        [5.8, 4. , 1.2, 0.2],\n",
       "        [5.7, 4.4, 1.5, 0.4],\n",
       "        [5.4, 3.9, 1.3, 0.4],\n",
       "        [5.1, 3.5, 1.4, 0.3],\n",
       "        [5.7, 3.8, 1.7, 0.3],\n",
       "        [5.1, 3.8, 1.5, 0.3],\n",
       "        [5.4, 3.4, 1.7, 0.2],\n",
       "        [5.1, 3.7, 1.5, 0.4],\n",
       "        [4.6, 3.6, 1. , 0.2],\n",
       "        [5.1, 3.3, 1.7, 0.5],\n",
       "        [4.8, 3.4, 1.9, 0.2],\n",
       "        [5. , 3. , 1.6, 0.2],\n",
       "        [5. , 3.4, 1.6, 0.4],\n",
       "        [5.2, 3.5, 1.5, 0.2],\n",
       "        [5.2, 3.4, 1.4, 0.2],\n",
       "        [4.7, 3.2, 1.6, 0.2],\n",
       "        [4.8, 3.1, 1.6, 0.2],\n",
       "        [5.4, 3.4, 1.5, 0.4],\n",
       "        [5.2, 4.1, 1.5, 0.1],\n",
       "        [5.5, 4.2, 1.4, 0.2],\n",
       "        [4.9, 3.1, 1.5, 0.2],\n",
       "        [5. , 3.2, 1.2, 0.2],\n",
       "        [5.5, 3.5, 1.3, 0.2],\n",
       "        [4.9, 3.6, 1.4, 0.1],\n",
       "        [4.4, 3. , 1.3, 0.2],\n",
       "        [5.1, 3.4, 1.5, 0.2],\n",
       "        [5. , 3.5, 1.3, 0.3],\n",
       "        [4.5, 2.3, 1.3, 0.3],\n",
       "        [4.4, 3.2, 1.3, 0.2],\n",
       "        [5. , 3.5, 1.6, 0.6],\n",
       "        [5.1, 3.8, 1.9, 0.4],\n",
       "        [4.8, 3. , 1.4, 0.3],\n",
       "        [5.1, 3.8, 1.6, 0.2],\n",
       "        [4.6, 3.2, 1.4, 0.2],\n",
       "        [5.3, 3.7, 1.5, 0.2],\n",
       "        [5. , 3.3, 1.4, 0.2],\n",
       "        [7. , 3.2, 4.7, 1.4],\n",
       "        [6.4, 3.2, 4.5, 1.5],\n",
       "        [6.9, 3.1, 4.9, 1.5],\n",
       "        [5.5, 2.3, 4. , 1.3],\n",
       "        [6.5, 2.8, 4.6, 1.5],\n",
       "        [5.7, 2.8, 4.5, 1.3],\n",
       "        [6.3, 3.3, 4.7, 1.6],\n",
       "        [4.9, 2.4, 3.3, 1. ],\n",
       "        [6.6, 2.9, 4.6, 1.3],\n",
       "        [5.2, 2.7, 3.9, 1.4],\n",
       "        [5. , 2. , 3.5, 1. ],\n",
       "        [5.9, 3. , 4.2, 1.5],\n",
       "        [6. , 2.2, 4. , 1. ],\n",
       "        [6.1, 2.9, 4.7, 1.4],\n",
       "        [5.6, 2.9, 3.6, 1.3],\n",
       "        [6.7, 3.1, 4.4, 1.4],\n",
       "        [5.6, 3. , 4.5, 1.5],\n",
       "        [5.8, 2.7, 4.1, 1. ],\n",
       "        [6.2, 2.2, 4.5, 1.5],\n",
       "        [5.6, 2.5, 3.9, 1.1],\n",
       "        [5.9, 3.2, 4.8, 1.8],\n",
       "        [6.1, 2.8, 4. , 1.3],\n",
       "        [6.3, 2.5, 4.9, 1.5],\n",
       "        [6.1, 2.8, 4.7, 1.2],\n",
       "        [6.4, 2.9, 4.3, 1.3],\n",
       "        [6.6, 3. , 4.4, 1.4],\n",
       "        [6.8, 2.8, 4.8, 1.4],\n",
       "        [6.7, 3. , 5. , 1.7],\n",
       "        [6. , 2.9, 4.5, 1.5],\n",
       "        [5.7, 2.6, 3.5, 1. ],\n",
       "        [5.5, 2.4, 3.8, 1.1],\n",
       "        [5.5, 2.4, 3.7, 1. ],\n",
       "        [5.8, 2.7, 3.9, 1.2],\n",
       "        [6. , 2.7, 5.1, 1.6],\n",
       "        [5.4, 3. , 4.5, 1.5],\n",
       "        [6. , 3.4, 4.5, 1.6],\n",
       "        [6.7, 3.1, 4.7, 1.5],\n",
       "        [6.3, 2.3, 4.4, 1.3],\n",
       "        [5.6, 3. , 4.1, 1.3],\n",
       "        [5.5, 2.5, 4. , 1.3],\n",
       "        [5.5, 2.6, 4.4, 1.2],\n",
       "        [6.1, 3. , 4.6, 1.4],\n",
       "        [5.8, 2.6, 4. , 1.2],\n",
       "        [5. , 2.3, 3.3, 1. ],\n",
       "        [5.6, 2.7, 4.2, 1.3],\n",
       "        [5.7, 3. , 4.2, 1.2],\n",
       "        [5.7, 2.9, 4.2, 1.3],\n",
       "        [6.2, 2.9, 4.3, 1.3],\n",
       "        [5.1, 2.5, 3. , 1.1],\n",
       "        [5.7, 2.8, 4.1, 1.3],\n",
       "        [6.3, 3.3, 6. , 2.5],\n",
       "        [5.8, 2.7, 5.1, 1.9],\n",
       "        [7.1, 3. , 5.9, 2.1],\n",
       "        [6.3, 2.9, 5.6, 1.8],\n",
       "        [6.5, 3. , 5.8, 2.2],\n",
       "        [7.6, 3. , 6.6, 2.1],\n",
       "        [4.9, 2.5, 4.5, 1.7],\n",
       "        [7.3, 2.9, 6.3, 1.8],\n",
       "        [6.7, 2.5, 5.8, 1.8],\n",
       "        [7.2, 3.6, 6.1, 2.5],\n",
       "        [6.5, 3.2, 5.1, 2. ],\n",
       "        [6.4, 2.7, 5.3, 1.9],\n",
       "        [6.8, 3. , 5.5, 2.1],\n",
       "        [5.7, 2.5, 5. , 2. ],\n",
       "        [5.8, 2.8, 5.1, 2.4],\n",
       "        [6.4, 3.2, 5.3, 2.3],\n",
       "        [6.5, 3. , 5.5, 1.8],\n",
       "        [7.7, 3.8, 6.7, 2.2],\n",
       "        [7.7, 2.6, 6.9, 2.3],\n",
       "        [6. , 2.2, 5. , 1.5],\n",
       "        [6.9, 3.2, 5.7, 2.3],\n",
       "        [5.6, 2.8, 4.9, 2. ],\n",
       "        [7.7, 2.8, 6.7, 2. ],\n",
       "        [6.3, 2.7, 4.9, 1.8],\n",
       "        [6.7, 3.3, 5.7, 2.1],\n",
       "        [7.2, 3.2, 6. , 1.8],\n",
       "        [6.2, 2.8, 4.8, 1.8],\n",
       "        [6.1, 3. , 4.9, 1.8],\n",
       "        [6.4, 2.8, 5.6, 2.1],\n",
       "        [7.2, 3. , 5.8, 1.6],\n",
       "        [7.4, 2.8, 6.1, 1.9],\n",
       "        [7.9, 3.8, 6.4, 2. ],\n",
       "        [6.4, 2.8, 5.6, 2.2],\n",
       "        [6.3, 2.8, 5.1, 1.5],\n",
       "        [6.1, 2.6, 5.6, 1.4],\n",
       "        [7.7, 3. , 6.1, 2.3],\n",
       "        [6.3, 3.4, 5.6, 2.4],\n",
       "        [6.4, 3.1, 5.5, 1.8],\n",
       "        [6. , 3. , 4.8, 1.8],\n",
       "        [6.9, 3.1, 5.4, 2.1],\n",
       "        [6.7, 3.1, 5.6, 2.4],\n",
       "        [6.9, 3.1, 5.1, 2.3],\n",
       "        [5.8, 2.7, 5.1, 1.9],\n",
       "        [6.8, 3.2, 5.9, 2.3],\n",
       "        [6.7, 3.3, 5.7, 2.5],\n",
       "        [6.7, 3. , 5.2, 2.3],\n",
       "        [6.3, 2.5, 5. , 1.9],\n",
       "        [6.5, 3. , 5.2, 2. ],\n",
       "        [6.2, 3.4, 5.4, 2.3],\n",
       "        [5.9, 3. , 5.1, 1.8]]),\n",
       " 'species': array([[array(['setosa'], dtype='<U6')],\n",
       "        [array(['setosa'], dtype='<U6')],\n",
       "        [array(['setosa'], dtype='<U6')],\n",
       "        [array(['setosa'], dtype='<U6')],\n",
       "        [array(['setosa'], dtype='<U6')],\n",
       "        [array(['setosa'], dtype='<U6')],\n",
       "        [array(['setosa'], dtype='<U6')],\n",
       "        [array(['setosa'], dtype='<U6')],\n",
       "        [array(['setosa'], dtype='<U6')],\n",
       "        [array(['setosa'], dtype='<U6')],\n",
       "        [array(['setosa'], dtype='<U6')],\n",
       "        [array(['setosa'], dtype='<U6')],\n",
       "        [array(['setosa'], dtype='<U6')],\n",
       "        [array(['setosa'], dtype='<U6')],\n",
       "        [array(['setosa'], dtype='<U6')],\n",
       "        [array(['setosa'], dtype='<U6')],\n",
       "        [array(['setosa'], dtype='<U6')],\n",
       "        [array(['setosa'], dtype='<U6')],\n",
       "        [array(['setosa'], dtype='<U6')],\n",
       "        [array(['setosa'], dtype='<U6')],\n",
       "        [array(['setosa'], dtype='<U6')],\n",
       "        [array(['setosa'], dtype='<U6')],\n",
       "        [array(['setosa'], dtype='<U6')],\n",
       "        [array(['setosa'], dtype='<U6')],\n",
       "        [array(['setosa'], dtype='<U6')],\n",
       "        [array(['setosa'], dtype='<U6')],\n",
       "        [array(['setosa'], dtype='<U6')],\n",
       "        [array(['setosa'], dtype='<U6')],\n",
       "        [array(['setosa'], dtype='<U6')],\n",
       "        [array(['setosa'], dtype='<U6')],\n",
       "        [array(['setosa'], dtype='<U6')],\n",
       "        [array(['setosa'], dtype='<U6')],\n",
       "        [array(['setosa'], dtype='<U6')],\n",
       "        [array(['setosa'], dtype='<U6')],\n",
       "        [array(['setosa'], dtype='<U6')],\n",
       "        [array(['setosa'], dtype='<U6')],\n",
       "        [array(['setosa'], dtype='<U6')],\n",
       "        [array(['setosa'], dtype='<U6')],\n",
       "        [array(['setosa'], dtype='<U6')],\n",
       "        [array(['setosa'], dtype='<U6')],\n",
       "        [array(['setosa'], dtype='<U6')],\n",
       "        [array(['setosa'], dtype='<U6')],\n",
       "        [array(['setosa'], dtype='<U6')],\n",
       "        [array(['setosa'], dtype='<U6')],\n",
       "        [array(['setosa'], dtype='<U6')],\n",
       "        [array(['setosa'], dtype='<U6')],\n",
       "        [array(['setosa'], dtype='<U6')],\n",
       "        [array(['setosa'], dtype='<U6')],\n",
       "        [array(['setosa'], dtype='<U6')],\n",
       "        [array(['setosa'], dtype='<U6')],\n",
       "        [array(['versicolor'], dtype='<U10')],\n",
       "        [array(['versicolor'], dtype='<U10')],\n",
       "        [array(['versicolor'], dtype='<U10')],\n",
       "        [array(['versicolor'], dtype='<U10')],\n",
       "        [array(['versicolor'], dtype='<U10')],\n",
       "        [array(['versicolor'], dtype='<U10')],\n",
       "        [array(['versicolor'], dtype='<U10')],\n",
       "        [array(['versicolor'], dtype='<U10')],\n",
       "        [array(['versicolor'], dtype='<U10')],\n",
       "        [array(['versicolor'], dtype='<U10')],\n",
       "        [array(['versicolor'], dtype='<U10')],\n",
       "        [array(['versicolor'], dtype='<U10')],\n",
       "        [array(['versicolor'], dtype='<U10')],\n",
       "        [array(['versicolor'], dtype='<U10')],\n",
       "        [array(['versicolor'], dtype='<U10')],\n",
       "        [array(['versicolor'], dtype='<U10')],\n",
       "        [array(['versicolor'], dtype='<U10')],\n",
       "        [array(['versicolor'], dtype='<U10')],\n",
       "        [array(['versicolor'], dtype='<U10')],\n",
       "        [array(['versicolor'], dtype='<U10')],\n",
       "        [array(['versicolor'], dtype='<U10')],\n",
       "        [array(['versicolor'], dtype='<U10')],\n",
       "        [array(['versicolor'], dtype='<U10')],\n",
       "        [array(['versicolor'], dtype='<U10')],\n",
       "        [array(['versicolor'], dtype='<U10')],\n",
       "        [array(['versicolor'], dtype='<U10')],\n",
       "        [array(['versicolor'], dtype='<U10')],\n",
       "        [array(['versicolor'], dtype='<U10')],\n",
       "        [array(['versicolor'], dtype='<U10')],\n",
       "        [array(['versicolor'], dtype='<U10')],\n",
       "        [array(['versicolor'], dtype='<U10')],\n",
       "        [array(['versicolor'], dtype='<U10')],\n",
       "        [array(['versicolor'], dtype='<U10')],\n",
       "        [array(['versicolor'], dtype='<U10')],\n",
       "        [array(['versicolor'], dtype='<U10')],\n",
       "        [array(['versicolor'], dtype='<U10')],\n",
       "        [array(['versicolor'], dtype='<U10')],\n",
       "        [array(['versicolor'], dtype='<U10')],\n",
       "        [array(['versicolor'], dtype='<U10')],\n",
       "        [array(['versicolor'], dtype='<U10')],\n",
       "        [array(['versicolor'], dtype='<U10')],\n",
       "        [array(['versicolor'], dtype='<U10')],\n",
       "        [array(['versicolor'], dtype='<U10')],\n",
       "        [array(['versicolor'], dtype='<U10')],\n",
       "        [array(['versicolor'], dtype='<U10')],\n",
       "        [array(['versicolor'], dtype='<U10')],\n",
       "        [array(['versicolor'], dtype='<U10')],\n",
       "        [array(['versicolor'], dtype='<U10')],\n",
       "        [array(['versicolor'], dtype='<U10')],\n",
       "        [array(['versicolor'], dtype='<U10')],\n",
       "        [array(['virginica'], dtype='<U9')],\n",
       "        [array(['virginica'], dtype='<U9')],\n",
       "        [array(['virginica'], dtype='<U9')],\n",
       "        [array(['virginica'], dtype='<U9')],\n",
       "        [array(['virginica'], dtype='<U9')],\n",
       "        [array(['virginica'], dtype='<U9')],\n",
       "        [array(['virginica'], dtype='<U9')],\n",
       "        [array(['virginica'], dtype='<U9')],\n",
       "        [array(['virginica'], dtype='<U9')],\n",
       "        [array(['virginica'], dtype='<U9')],\n",
       "        [array(['virginica'], dtype='<U9')],\n",
       "        [array(['virginica'], dtype='<U9')],\n",
       "        [array(['virginica'], dtype='<U9')],\n",
       "        [array(['virginica'], dtype='<U9')],\n",
       "        [array(['virginica'], dtype='<U9')],\n",
       "        [array(['virginica'], dtype='<U9')],\n",
       "        [array(['virginica'], dtype='<U9')],\n",
       "        [array(['virginica'], dtype='<U9')],\n",
       "        [array(['virginica'], dtype='<U9')],\n",
       "        [array(['virginica'], dtype='<U9')],\n",
       "        [array(['virginica'], dtype='<U9')],\n",
       "        [array(['virginica'], dtype='<U9')],\n",
       "        [array(['virginica'], dtype='<U9')],\n",
       "        [array(['virginica'], dtype='<U9')],\n",
       "        [array(['virginica'], dtype='<U9')],\n",
       "        [array(['virginica'], dtype='<U9')],\n",
       "        [array(['virginica'], dtype='<U9')],\n",
       "        [array(['virginica'], dtype='<U9')],\n",
       "        [array(['virginica'], dtype='<U9')],\n",
       "        [array(['virginica'], dtype='<U9')],\n",
       "        [array(['virginica'], dtype='<U9')],\n",
       "        [array(['virginica'], dtype='<U9')],\n",
       "        [array(['virginica'], dtype='<U9')],\n",
       "        [array(['virginica'], dtype='<U9')],\n",
       "        [array(['virginica'], dtype='<U9')],\n",
       "        [array(['virginica'], dtype='<U9')],\n",
       "        [array(['virginica'], dtype='<U9')],\n",
       "        [array(['virginica'], dtype='<U9')],\n",
       "        [array(['virginica'], dtype='<U9')],\n",
       "        [array(['virginica'], dtype='<U9')],\n",
       "        [array(['virginica'], dtype='<U9')],\n",
       "        [array(['virginica'], dtype='<U9')],\n",
       "        [array(['virginica'], dtype='<U9')],\n",
       "        [array(['virginica'], dtype='<U9')],\n",
       "        [array(['virginica'], dtype='<U9')],\n",
       "        [array(['virginica'], dtype='<U9')],\n",
       "        [array(['virginica'], dtype='<U9')],\n",
       "        [array(['virginica'], dtype='<U9')],\n",
       "        [array(['virginica'], dtype='<U9')],\n",
       "        [array(['virginica'], dtype='<U9')]], dtype=object)}"
      ]
     },
     "execution_count": 15,
     "metadata": {},
     "output_type": "execute_result"
    }
   ],
   "source": [
    "df"
   ]
  },
  {
   "cell_type": "code",
   "execution_count": 16,
   "metadata": {},
   "outputs": [],
   "source": [
    "species = df['species']"
   ]
  },
  {
   "cell_type": "code",
   "execution_count": 17,
   "metadata": {},
   "outputs": [],
   "source": [
    "meas = df['meas']"
   ]
  },
  {
   "cell_type": "code",
   "execution_count": 18,
   "metadata": {},
   "outputs": [
    {
     "data": {
      "text/plain": [
       "(150, 4)"
      ]
     },
     "execution_count": 18,
     "metadata": {},
     "output_type": "execute_result"
    }
   ],
   "source": [
    "meas.shape"
   ]
  },
  {
   "cell_type": "code",
   "execution_count": 19,
   "metadata": {},
   "outputs": [
    {
     "data": {
      "text/plain": [
       "(150, 1)"
      ]
     },
     "execution_count": 19,
     "metadata": {},
     "output_type": "execute_result"
    }
   ],
   "source": [
    "species.shape"
   ]
  },
  {
   "cell_type": "code",
   "execution_count": 20,
   "metadata": {},
   "outputs": [],
   "source": [
    "def train_test_split(testset=30, num=150):\n",
    "    total = list(range(num))\n",
    "    test = list(np.random.choice(num, testset, replace=False))\n",
    "    train = [i for i in total if not i in test]\n",
    "    return train, test"
   ]
  },
  {
   "cell_type": "code",
   "execution_count": 22,
   "metadata": {},
   "outputs": [
    {
     "data": {
      "text/plain": [
       "(150, 1)"
      ]
     },
     "execution_count": 22,
     "metadata": {},
     "output_type": "execute_result"
    }
   ],
   "source": [
    "#Creating labels \n",
    "y0 = np.zeros((50, 1))\n",
    "y1 = np.ones((50,1))\n",
    "y2 = np.ones((50,1)) + np.ones((50,1))\n",
    "y = np.concatenate((y0, y1, y2), axis = 0)\n",
    "y.shape"
   ]
  },
  {
   "cell_type": "code",
   "execution_count": 60,
   "metadata": {},
   "outputs": [],
   "source": [
    "def cross_validation(x, y, testset=30, num=150, loop=8):\n",
    "    error = 0\n",
    "    for i in range(loop):\n",
    "        train, test = train_test_split(testset, num)\n",
    "        wt = weights(x[train, :], y[train,:])\n",
    "        yh = np.dot(x[test, :], wt)\n",
    "        #Round the real-valued predictions to integers\n",
    "        yhat = np.round(yh, 0)\n",
    "        dta = y[test,:]- yhat \n",
    "        #error\n",
    "        error += dta[np.where(dta!=0)].shape[0]\n",
    "    rv = error/30\n",
    "    return rv/loop"
   ]
  },
  {
   "cell_type": "code",
   "execution_count": 64,
   "metadata": {},
   "outputs": [
    {
     "data": {
      "text/plain": [
       "0.0125"
      ]
     },
     "execution_count": 64,
     "metadata": {},
     "output_type": "execute_result"
    }
   ],
   "source": [
    "cross_validation(meas, y, 10 )"
   ]
  },
  {
   "cell_type": "markdown",
   "metadata": {},
   "source": [
    "## Q4 c)"
   ]
  },
  {
   "cell_type": "code",
   "execution_count": 65,
   "metadata": {},
   "outputs": [],
   "source": [
    "px = []\n",
    "py = []\n",
    "#i is training \n",
    "for i in range(10, 141):\n",
    "    err = cross_validation(meas, y, 150-i)\n",
    "    py.append(err)\n",
    "    px.append(i)"
   ]
  },
  {
   "cell_type": "code",
   "execution_count": 48,
   "metadata": {},
   "outputs": [
    {
     "data": {
      "text/plain": [
       "[0.008333333333333333,\n",
       " 0.016666666666666666,\n",
       " 0.025,\n",
       " 0.016666666666666666,\n",
       " 0.020833333333333332,\n",
       " 0.025,\n",
       " 0.0125,\n",
       " 0.008333333333333333,\n",
       " 0.016666666666666666,\n",
       " 0.0125,\n",
       " 0.029166666666666667,\n",
       " 0.03333333333333333,\n",
       " 0.020833333333333332,\n",
       " 0.0125,\n",
       " 0.03333333333333333,\n",
       " 0.029166666666666667,\n",
       " 0.03333333333333333,\n",
       " 0.03333333333333333,\n",
       " 0.0375,\n",
       " 0.03333333333333333,\n",
       " 0.03333333333333333,\n",
       " 0.020833333333333332,\n",
       " 0.05416666666666667,\n",
       " 0.029166666666666667,\n",
       " 0.058333333333333334,\n",
       " 0.025,\n",
       " 0.025,\n",
       " 0.058333333333333334,\n",
       " 0.0375,\n",
       " 0.029166666666666667,\n",
       " 0.058333333333333334,\n",
       " 0.04583333333333333,\n",
       " 0.05416666666666667,\n",
       " 0.0375,\n",
       " 0.05,\n",
       " 0.05,\n",
       " 0.020833333333333332,\n",
       " 0.058333333333333334,\n",
       " 0.06666666666666667,\n",
       " 0.058333333333333334,\n",
       " 0.058333333333333334,\n",
       " 0.05416666666666667,\n",
       " 0.07083333333333333,\n",
       " 0.04583333333333333,\n",
       " 0.058333333333333334,\n",
       " 0.041666666666666664,\n",
       " 0.08333333333333333,\n",
       " 0.0875,\n",
       " 0.09583333333333334,\n",
       " 0.06666666666666667,\n",
       " 0.058333333333333334,\n",
       " 0.0875,\n",
       " 0.07916666666666666,\n",
       " 0.1,\n",
       " 0.075,\n",
       " 0.0625,\n",
       " 0.075,\n",
       " 0.08333333333333333,\n",
       " 0.07083333333333333,\n",
       " 0.09166666666666666,\n",
       " 0.08333333333333333,\n",
       " 0.0875,\n",
       " 0.09166666666666666,\n",
       " 0.0875,\n",
       " 0.07083333333333333,\n",
       " 0.09166666666666666,\n",
       " 0.0875,\n",
       " 0.07916666666666666,\n",
       " 0.09583333333333334,\n",
       " 0.07916666666666666,\n",
       " 0.0875,\n",
       " 0.08333333333333333,\n",
       " 0.09583333333333334,\n",
       " 0.1125,\n",
       " 0.08333333333333333,\n",
       " 0.08333333333333333,\n",
       " 0.10833333333333334,\n",
       " 0.10416666666666667,\n",
       " 0.11666666666666667,\n",
       " 0.09583333333333334,\n",
       " 0.09583333333333334,\n",
       " 0.11666666666666667,\n",
       " 0.1125,\n",
       " 0.125,\n",
       " 0.12083333333333333,\n",
       " 0.11666666666666667,\n",
       " 0.1,\n",
       " 0.12916666666666668,\n",
       " 0.125,\n",
       " 0.12083333333333333,\n",
       " 0.1625,\n",
       " 0.10833333333333334,\n",
       " 0.09166666666666666,\n",
       " 0.1125,\n",
       " 0.12083333333333333,\n",
       " 0.12083333333333333,\n",
       " 0.12083333333333333,\n",
       " 0.1375,\n",
       " 0.125,\n",
       " 0.15,\n",
       " 0.1625,\n",
       " 0.15,\n",
       " 0.12916666666666668,\n",
       " 0.14583333333333334,\n",
       " 0.14166666666666666,\n",
       " 0.15416666666666667,\n",
       " 0.175,\n",
       " 0.14166666666666666,\n",
       " 0.12916666666666668,\n",
       " 0.15416666666666667,\n",
       " 0.1625,\n",
       " 0.20416666666666666,\n",
       " 0.17083333333333334,\n",
       " 0.16666666666666666,\n",
       " 0.19166666666666668,\n",
       " 0.19166666666666668,\n",
       " 0.20833333333333334,\n",
       " 0.175,\n",
       " 0.175,\n",
       " 0.18333333333333332,\n",
       " 0.275,\n",
       " 0.2916666666666667,\n",
       " 0.24166666666666667,\n",
       " 0.17083333333333334,\n",
       " 0.24166666666666667,\n",
       " 0.30416666666666664,\n",
       " 0.32916666666666666,\n",
       " 0.2625,\n",
       " 0.225,\n",
       " 0.3458333333333333,\n",
       " 0.6041666666666666]"
      ]
     },
     "execution_count": 48,
     "metadata": {},
     "output_type": "execute_result"
    }
   ],
   "source": [
    "py"
   ]
  },
  {
   "cell_type": "code",
   "execution_count": 52,
   "metadata": {},
   "outputs": [
    {
     "data": {
      "text/plain": [
       "[140,\n",
       " 139,\n",
       " 138,\n",
       " 137,\n",
       " 136,\n",
       " 135,\n",
       " 134,\n",
       " 133,\n",
       " 132,\n",
       " 131,\n",
       " 130,\n",
       " 129,\n",
       " 128,\n",
       " 127,\n",
       " 126,\n",
       " 125,\n",
       " 124,\n",
       " 123,\n",
       " 122,\n",
       " 121,\n",
       " 120,\n",
       " 119,\n",
       " 118,\n",
       " 117,\n",
       " 116,\n",
       " 115,\n",
       " 114,\n",
       " 113,\n",
       " 112,\n",
       " 111,\n",
       " 110,\n",
       " 109,\n",
       " 108,\n",
       " 107,\n",
       " 106,\n",
       " 105,\n",
       " 104,\n",
       " 103,\n",
       " 102,\n",
       " 101,\n",
       " 100,\n",
       " 99,\n",
       " 98,\n",
       " 97,\n",
       " 96,\n",
       " 95,\n",
       " 94,\n",
       " 93,\n",
       " 92,\n",
       " 91,\n",
       " 90,\n",
       " 89,\n",
       " 88,\n",
       " 87,\n",
       " 86,\n",
       " 85,\n",
       " 84,\n",
       " 83,\n",
       " 82,\n",
       " 81,\n",
       " 80,\n",
       " 79,\n",
       " 78,\n",
       " 77,\n",
       " 76,\n",
       " 75,\n",
       " 74,\n",
       " 73,\n",
       " 72,\n",
       " 71,\n",
       " 70,\n",
       " 69,\n",
       " 68,\n",
       " 67,\n",
       " 66,\n",
       " 65,\n",
       " 64,\n",
       " 63,\n",
       " 62,\n",
       " 61,\n",
       " 60,\n",
       " 59,\n",
       " 58,\n",
       " 57,\n",
       " 56,\n",
       " 55,\n",
       " 54,\n",
       " 53,\n",
       " 52,\n",
       " 51,\n",
       " 50,\n",
       " 49,\n",
       " 48,\n",
       " 47,\n",
       " 46,\n",
       " 45,\n",
       " 44,\n",
       " 43,\n",
       " 42,\n",
       " 41,\n",
       " 40,\n",
       " 39,\n",
       " 38,\n",
       " 37,\n",
       " 36,\n",
       " 35,\n",
       " 34,\n",
       " 33,\n",
       " 32,\n",
       " 31,\n",
       " 30,\n",
       " 29,\n",
       " 28,\n",
       " 27,\n",
       " 26,\n",
       " 25,\n",
       " 24,\n",
       " 23,\n",
       " 22,\n",
       " 21,\n",
       " 20,\n",
       " 19,\n",
       " 18,\n",
       " 17,\n",
       " 16,\n",
       " 15,\n",
       " 14,\n",
       " 13,\n",
       " 12,\n",
       " 11,\n",
       " 10]"
      ]
     },
     "execution_count": 52,
     "metadata": {},
     "output_type": "execute_result"
    }
   ],
   "source": [
    "px"
   ]
  },
  {
   "cell_type": "code",
   "execution_count": 66,
   "metadata": {},
   "outputs": [
    {
     "data": {
      "image/png": "[encoded data removed]",
      "text/plain": [
       "<Figure size 432x288 with 1 Axes>"
      ]
     },
     "metadata": {
      "needs_background": "light"
     },
     "output_type": "display_data"
    }
   ],
   "source": [
    "import matplotlib.pyplot as plt\n",
    "xp = np.linspace(10, 1, 141)\n",
    "plt.scatter(px, py, label='raw data', marker='.')\n",
    "plt.xlabel('Training Set Size')\n",
    "plt.ylabel('Average Test Error')\n",
    "\n",
    "plt.title(\"Validation Curves\")\n",
    "\n",
    "plt.legend()\n",
    "\n",
    "plt.show()"
   ]
  },
  {
   "cell_type": "markdown",
   "metadata": {},
   "source": [
    "## Q4 d)"
   ]
  },
  {
   "cell_type": "markdown",
   "metadata": {},
   "source": [
    "Now design a classifier using only the first three measurements (sepal length, sepal width, and petal length)."
   ]
  },
  {
   "cell_type": "code",
   "execution_count": 54,
   "metadata": {},
   "outputs": [
    {
     "data": {
      "text/plain": [
       "0.1875"
      ]
     },
     "execution_count": 54,
     "metadata": {},
     "output_type": "execute_result"
    }
   ],
   "source": [
    "cross_validation(meas[:,:3], y)"
   ]
  },
  {
   "cell_type": "code",
   "execution_count": 67,
   "metadata": {},
   "outputs": [],
   "source": [
    "px3 = []\n",
    "py3 = []\n",
    "#i is training \n",
    "for i in range(10, 141):\n",
    "    err = cross_validation(meas[:,:3], y, 150-i)\n",
    "    py3.append(err)\n",
    "    px3.append(i)"
   ]
  },
  {
   "cell_type": "code",
   "execution_count": 68,
   "metadata": {},
   "outputs": [
    {
     "data": {
      "image/png": "[encoded data removed]",
      "text/plain": [
       "<Figure size 432x288 with 1 Axes>"
      ]
     },
     "metadata": {
      "needs_background": "light"
     },
     "output_type": "display_data"
    }
   ],
   "source": [
    "xp = np.linspace(10, 1, 141)\n",
    "plt.scatter(px3, py3, label='raw data', marker='.', color= \"green\")\n",
    "plt.xlabel('Training Set Size')\n",
    "plt.ylabel('Average Test Error')\n",
    "\n",
    "plt.title(\"Validation Curves\")\n",
    "\n",
    "plt.legend()\n",
    "\n",
    "plt.show()"
   ]
  }
 ],
 "metadata": {
  "kernelspec": {
   "display_name": "Python 3",
   "language": "python",
   "name": "python3"
  },
  "language_info": {
   "codemirror_mode": {
    "name": "ipython",
    "version": 3
   },
   "file_extension": ".py",
   "mimetype": "text/x-python",
   "name": "python",
   "nbconvert_exporter": "python",
   "pygments_lexer": "ipython3",
   "version": "3.7.2"
  }
 },
 "nbformat": 4,
 "nbformat_minor": 2
}
